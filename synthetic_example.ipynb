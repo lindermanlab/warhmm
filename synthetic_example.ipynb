{
 "cells": [
  {
   "cell_type": "code",
   "execution_count": 33,
   "metadata": {
    "collapsed": true
   },
   "outputs": [],
   "source": [
    "from data_util import precompute_ar_covariates\n",
    "from twarhmm import TWARHMM, LinearRegressionObservations\n",
    "import matplotlib.pyplot as plt\n",
    "from util import random_rotation\n",
    "import numpy as np\n",
    "from scipy.linalg import logm"
   ]
  },
  {
   "cell_type": "code",
   "execution_count": 34,
   "outputs": [],
   "source": [
    "# we'll generate some 2D autoregressive (1 lag) data\n",
    "data_dim = 2\n",
    "num_lags = 1\n",
    "\n",
    "# dictionary setting the parameters of the model\n",
    "true_config =  dict(\n",
    "    num_discrete_states=2,\n",
    "    data_dim=data_dim,\n",
    "    covariates_dim=3,\n",
    "    tau_scale=0.7,\n",
    "    num_taus=3,\n",
    "    kappa=5000,\n",
    "    alpha=2,\n",
    "    covariance_reg=1e-4)"
   ],
   "metadata": {
    "collapsed": false,
    "pycharm": {
     "name": "#%%\n"
    }
   }
  },
  {
   "cell_type": "code",
   "execution_count": 35,
   "outputs": [],
   "source": [
    "# initialize model using the above dictionary\n",
    "true_model = TWARHMM(true_config)\n",
    "\n",
    "# set transition matrices manually (don't have to do this)\n",
    "z_stay = .99\n",
    "transition_z = z_stay*np.eye(true_config['num_discrete_states']) + (1-z_stay)/(true_config['num_discrete_states']-1)*(np.ones((true_config['num_discrete_states'],true_config['num_discrete_states']))-np.eye(true_config['num_discrete_states']))\n",
    "tau_stay = 0.95\n",
    "transition_tau = tau_stay*np.eye(true_config['num_taus']) + (1-tau_stay)/(true_config['num_taus']-1)*(np.ones((true_config['num_taus'],true_config['num_taus']))-np.eye(true_config['num_taus']))\n",
    "true_model.transitions.transition_matrix = (transition_z, transition_tau)\n",
    "\n",
    "# set weight matrices manually (note that each matrix has an additional column associated with the bias (constant) term)\n",
    "true_model.observations.weights[0,:,:-1] = logm(0.92*random_rotation(data_dim,-np.pi/20))\n",
    "true_model.observations.weights[1,:,:-1] = logm(0.92*random_rotation(data_dim,np.pi/20))\n",
    "true_model.observations.weights[0,:,-1] = np.array([1,0])\n",
    "true_model.observations.weights[1,:,-1] = np.array([-1,0])"
   ],
   "metadata": {
    "collapsed": false,
    "pycharm": {
     "name": "#%%\n"
    }
   }
  },
  {
   "cell_type": "code",
   "execution_count": 36,
   "outputs": [],
   "source": [
    "# set the number of timesteps of data you'd like to generate\n",
    "T = 30000\n",
    "# sample for T timesteps, and give bias=True because the weight matrices have the additional bias column\n",
    "z,x = true_model.sample(T, bias=True)\n",
    "# also grab some test data\n",
    "z2,x2 = true_model.sample(T, bias=True)"
   ],
   "metadata": {
    "collapsed": false,
    "pycharm": {
     "name": "#%%\n"
    }
   }
  },
  {
   "cell_type": "code",
   "execution_count": 37,
   "outputs": [
    {
     "data": {
      "text/plain": "[<matplotlib.lines.Line2D at 0x7ffb396a8580>,\n <matplotlib.lines.Line2D at 0x7ffb38e174f0>]"
     },
     "execution_count": 37,
     "metadata": {},
     "output_type": "execute_result"
    },
    {
     "data": {
      "text/plain": "<Figure size 432x288 with 1 Axes>",
      "image/png": "[encoded data removed]"
     },
     "metadata": {
      "needs_background": "light"
     },
     "output_type": "display_data"
    }
   ],
   "source": [
    "# see what it looks like\n",
    "plt.plot(x[:100,:])"
   ],
   "metadata": {
    "collapsed": false,
    "pycharm": {
     "name": "#%%\n"
    }
   }
  },
  {
   "cell_type": "code",
   "execution_count": 38,
   "outputs": [],
   "source": [
    "# get data ready to train with\n",
    "train_dataset = [dict(data=x)]\n",
    "test_dataset = [dict(data=x2)]\n",
    "# First compute the autoregression covariates\n",
    "precompute_ar_covariates(train_dataset, num_lags=num_lags, fit_intercept=True)\n",
    "precompute_ar_covariates(test_dataset, num_lags=num_lags, fit_intercept=True)\n",
    "\n",
    "# Then precompute the sufficient statistics\n",
    "LinearRegressionObservations.precompute_suff_stats(train_dataset)\n",
    "LinearRegressionObservations.precompute_suff_stats(test_dataset)\n",
    "\n",
    "covariates_dim = train_dataset[0]['covariates'].shape[1]"
   ],
   "metadata": {
    "collapsed": false,
    "pycharm": {
     "name": "#%%\n"
    }
   }
  },
  {
   "cell_type": "code",
   "execution_count": 39,
   "outputs": [],
   "source": [
    "# initialize model to train\n",
    "config =  dict(\n",
    "    num_discrete_states=2,\n",
    "    data_dim=data_dim,\n",
    "    covariates_dim=3,\n",
    "    tau_scale=0.7,\n",
    "    num_taus=3,\n",
    "    kappa=100,\n",
    "    alpha=0.5,\n",
    "    covariance_reg=1e-4)\n",
    "twarhmm = TWARHMM(config)"
   ],
   "metadata": {
    "collapsed": false,
    "pycharm": {
     "name": "#%%\n"
    }
   }
  },
  {
   "cell_type": "code",
   "execution_count": 40,
   "outputs": [
    {
     "data": {
      "text/plain": "  0%|          | 0/20 [00:00<?, ?it/s]",
      "application/vnd.jupyter.widget-view+json": {
       "version_major": 2,
       "version_minor": 0,
       "model_id": "c10ed6b8ab054749961d389e49350cfc"
      }
     },
     "metadata": {},
     "output_type": "display_data"
    },
    {
     "data": {
      "text/plain": "  0%|          | 0/1 [00:00<?, ?it/s]",
      "application/vnd.jupyter.widget-view+json": {
       "version_major": 2,
       "version_minor": 0,
       "model_id": "2851bf5891ce42239fd6d26415b5e5db"
      }
     },
     "metadata": {},
     "output_type": "display_data"
    },
    {
     "name": "stdout",
     "output_type": "stream",
     "text": [
      "average iteration time:  0.11177268028259277\n"
     ]
    }
   ],
   "source": [
    "# train\n",
    "train_lls, test_lls, train_posteriors, test_posteriors, = \\\n",
    "        twarhmm.fit_stoch(train_dataset,\n",
    "                         test_dataset,\n",
    "                          num_epochs=20, compute_posteriors=True, wandb_log=False)"
   ],
   "metadata": {
    "collapsed": false,
    "pycharm": {
     "name": "#%%\n"
    }
   }
  },
  {
   "cell_type": "code",
   "execution_count": 44,
   "outputs": [
    {
     "data": {
      "text/plain": "Text(0.5, 1.0, 'inferred discrete states')"
     },
     "execution_count": 44,
     "metadata": {},
     "output_type": "execute_result"
    },
    {
     "data": {
      "text/plain": "<Figure size 432x288 with 1 Axes>",
      "image/png": "[encoded data removed]"
     },
     "metadata": {
      "needs_background": "light"
     },
     "output_type": "display_data"
    }
   ],
   "source": [
    "# get inferred discrete states via floor division by num_taus\n",
    "inferred_states = test_posteriors[0].get_states()//config['num_taus']\n",
    "plt.plot(inferred_states[:100])\n",
    "plt.title('inferred discrete states')"
   ],
   "metadata": {
    "collapsed": false,
    "pycharm": {
     "name": "#%%\n"
    }
   }
  },
  {
   "cell_type": "code",
   "execution_count": 43,
   "outputs": [
    {
     "data": {
      "text/plain": "Text(0.5, 1.0, 'inferred time constants')"
     },
     "execution_count": 43,
     "metadata": {},
     "output_type": "execute_result"
    },
    {
     "data": {
      "text/plain": "<Figure size 432x288 with 1 Axes>",
      "image/png": "[encoded data removed]"
     },
     "metadata": {
      "needs_background": "light"
     },
     "output_type": "display_data"
    }
   ],
   "source": [
    "# get inferred taus via modding out by num_taus\n",
    "inferred_taus = np.mod(test_posteriors[0].get_states(),config['num_taus'])\n",
    "plt.plot(inferred_taus[:100])\n",
    "plt.title('inferred time constants')"
   ],
   "metadata": {
    "collapsed": false,
    "pycharm": {
     "name": "#%%\n"
    }
   }
  },
  {
   "cell_type": "code",
   "execution_count": null,
   "outputs": [],
   "source": [],
   "metadata": {
    "collapsed": false,
    "pycharm": {
     "name": "#%%\n"
    }
   }
  }
 ],
 "metadata": {
  "kernelspec": {
   "display_name": "Python 3",
   "language": "python",
   "name": "python3"
  },
  "language_info": {
   "codemirror_mode": {
    "name": "ipython",
    "version": 2
   },
   "file_extension": ".py",
   "mimetype": "text/x-python",
   "name": "python",
   "nbconvert_exporter": "python",
   "pygments_lexer": "ipython2",
   "version": "2.7.6"
  }
 },
 "nbformat": 4,
 "nbformat_minor": 0
}